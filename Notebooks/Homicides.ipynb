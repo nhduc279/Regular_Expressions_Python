{
 "cells": [
  {
   "cell_type": "markdown",
   "id": "2e2abc4f",
   "metadata": {},
   "source": [
    "# Regular expression for buiding a dataset about \"homicides\"  and a few data explorations"
   ]
  },
  {
   "cell_type": "markdown",
   "id": "bff45cec",
   "metadata": {},
   "source": [
    "## Part 1. Using regex for gathering data from each variable"
   ]
  },
  {
   "cell_type": "code",
   "execution_count": 1,
   "id": "2a07f54b",
   "metadata": {},
   "outputs": [],
   "source": [
    "import pandas as pd\n",
    "import re\n",
    "import numpy as np"
   ]
  },
  {
   "cell_type": "markdown",
   "id": "0d4e9101",
   "metadata": {},
   "source": [
    "### Reading raw text"
   ]
  },
  {
   "cell_type": "code",
   "execution_count": 2,
   "id": "1648ec62",
   "metadata": {},
   "outputs": [],
   "source": [
    "file = open('homicides.txt', mode ='r', encoding = 'utf8')\n",
    "data = [row for row in file]"
   ]
  },
  {
   "cell_type": "markdown",
   "id": "8b2d33e6",
   "metadata": {},
   "source": [
    "### Collecting addresses"
   ]
  },
  {
   "cell_type": "code",
   "execution_count": 3,
   "id": "6792d7a1",
   "metadata": {},
   "outputs": [
    {
     "name": "stdout",
     "output_type": "stream",
     "text": [
      "['3400 Clifton Ave.', '4900 Challedon Road', '2000 West North Ave', '5900 Northwood Drive', '500 Maude Ave.', '5200 Ready Ave.', '300 West North Ave.', '1800 North Montford Ave.', '5100 Harford Road', '3100 Ravenwood Road', '4500 Fairfax Road']\n"
     ]
    }
   ],
   "source": [
    "addresses = []\n",
    "\n",
    "for row in data:\n",
    "    match = re.search(r'\"address\">([\\w \\d .]+)', row)\n",
    "    \n",
    "    if match:\n",
    "        addresses.append(match.group(1))\n",
    "    else:\n",
    "        address.append(np.nan)\n",
    "        \n",
    "print(addresses[0:11])"
   ]
  },
  {
   "cell_type": "markdown",
   "id": "07526679",
   "metadata": {},
   "source": [
    "### Collecting ages"
   ]
  },
  {
   "cell_type": "code",
   "execution_count": 4,
   "id": "eac6d623",
   "metadata": {},
   "outputs": [
    {
     "name": "stdout",
     "output_type": "stream",
     "text": [
      "[17, 26, 44, 21, 61, 46, 27, 21, 16, 21]\n"
     ]
    }
   ],
   "source": [
    "ages = []\n",
    "\n",
    "for row in data:\n",
    "    match = re.search(r'(\\d+) years? old', row)\n",
    "    \n",
    "    if match:\n",
    "        ages.append(int(match.group(1)))\n",
    "    else:\n",
    "        ages.append(np.nan)\n",
    "        \n",
    "print(ages[0:10])"
   ]
  },
  {
   "cell_type": "markdown",
   "id": "0d2d6d89",
   "metadata": {},
   "source": [
    "### Collecting \"found\" dates"
   ]
  },
  {
   "cell_type": "code",
   "execution_count": 5,
   "id": "7865def7",
   "metadata": {},
   "outputs": [
    {
     "name": "stdout",
     "output_type": "stream",
     "text": [
      "['January 1, 2007', 'January 2, 2007', 'January 2, 2007', 'January 3, 2007', 'January 5, 2007', 'January 5, 2007', 'January 5, 2007', 'January 7, 2007', 'January 8, 2007', 'January 8, 2007', 'January 9, 2007']\n"
     ]
    }
   ],
   "source": [
    "founds = []\n",
    "\n",
    "for row in data:\n",
    "    match = re.search(r'Found \\w+? ([\\w \\d ,]+)', row, flags=re.I)\n",
    "    \n",
    "    if match:\n",
    "        founds.append(match.group(1))\n",
    "    else:\n",
    "        founds.append(np.nan)\n",
    "        \n",
    "print(founds[0:11])"
   ]
  },
  {
   "cell_type": "markdown",
   "id": "446416c7",
   "metadata": {},
   "source": [
    "### Collecting causes"
   ]
  },
  {
   "cell_type": "code",
   "execution_count": 6,
   "id": "fec519a0",
   "metadata": {},
   "outputs": [
    {
     "name": "stdout",
     "output_type": "stream",
     "text": [
      "['shooting', 'shooting', 'shooting', 'asphyxiation', 'shooting', 'shooting', 'shooting', 'shooting', 'shooting', 'shooting', 'shooting', 'shooting', 'shooting', 'shooting', 'shooting', 'shooting', 'shooting', 'shooting', 'shooting', 'stabbing', 'shooting', 'shooting', 'shooting', 'shooting', 'shooting', 'shooting', 'shooting', 'shooting']\n"
     ]
    }
   ],
   "source": [
    "causes = []\n",
    "\n",
    "for row in data:\n",
    "    match = re.search(r'Cause: ([\\w . -]+)', row)\n",
    "    \n",
    "    if match:\n",
    "        causes.append(match.group(1))\n",
    "    else:\n",
    "        causes.append(np.nan)\n",
    "        \n",
    "print(causes[23:51])"
   ]
  },
  {
   "cell_type": "markdown",
   "id": "c900faff",
   "metadata": {},
   "source": [
    "### Collecting genders"
   ]
  },
  {
   "cell_type": "code",
   "execution_count": 7,
   "id": "8a093704",
   "metadata": {},
   "outputs": [
    {
     "name": "stdout",
     "output_type": "stream",
     "text": [
      "['black male', 'black male', 'black female', 'black male', 'white male', 'black male', 'black male', 'black male', 'black male', 'black male', 'black male', 'black male', 'white female', 'black male', 'black male', 'black male', 'black male', 'black female', 'black male', 'black male', 'black male', 'black male', 'black male', 'black male', 'black male', 'black male', 'hispanic female', 'white female', 'black male', 'black male', 'black male']\n"
     ]
    }
   ],
   "source": [
    "genders = []\n",
    "\n",
    "for row in data:\n",
    "    match = re.search(r'(\\w+? (male|female)),? \\d+ years? old', row)\n",
    "    \n",
    "    if match:\n",
    "        genders.append(match.group(1))\n",
    "    else:\n",
    "        genders.append(np.nan)\n",
    "        \n",
    "print(genders[0:31])"
   ]
  },
  {
   "cell_type": "markdown",
   "id": "7ab9d37e",
   "metadata": {},
   "source": [
    "### Collecting reasons for death"
   ]
  },
  {
   "cell_type": "code",
   "execution_count": 8,
   "id": "7d337c8e",
   "metadata": {},
   "outputs": [
    {
     "name": "stdout",
     "output_type": "stream",
     "text": [
      "['Shock Trauma', 'scene', 'scene', 'scene', 'scene', 'JHH', 'UMMC', 'JHH', 'Bayview', 'JHH']\n"
     ]
    }
   ],
   "source": [
    "death = []\n",
    "\n",
    "for row in data:\n",
    "    match = re.search(r'died at? ([\\w - .]+)', row, flags=re.I)\n",
    "    \n",
    "    if match:\n",
    "        death.append(match.group(1))\n",
    "    else:\n",
    "        death.append(np.nan)\n",
    "        \n",
    "print(death[0:10])"
   ]
  },
  {
   "cell_type": "markdown",
   "id": "201b8aa2",
   "metadata": {},
   "source": [
    "## Part 2. Preparing the right form of input data for creating a DataFrame in Pandas"
   ]
  },
  {
   "cell_type": "code",
   "execution_count": 9,
   "id": "e956deb7",
   "metadata": {},
   "outputs": [
    {
     "data": {
      "text/plain": [
       "[['3400 Clifton Ave.',\n",
       "  'black male',\n",
       "  17,\n",
       "  'January 1, 2007',\n",
       "  'Shock Trauma',\n",
       "  'shooting'],\n",
       " ['4900 Challedon Road',\n",
       "  'black male',\n",
       "  26,\n",
       "  'January 2, 2007',\n",
       "  'scene',\n",
       "  'shooting'],\n",
       " ['2000 West North Ave',\n",
       "  'black female',\n",
       "  44,\n",
       "  'January 2, 2007',\n",
       "  'scene',\n",
       "  'blunt force'],\n",
       " ['5900 Northwood Drive',\n",
       "  'black male',\n",
       "  21,\n",
       "  'January 3, 2007',\n",
       "  'scene',\n",
       "  'asphyxiation'],\n",
       " ['500 Maude Ave.',\n",
       "  'white male',\n",
       "  61,\n",
       "  'January 5, 2007',\n",
       "  'scene',\n",
       "  'blunt force'],\n",
       " ['5200 Ready Ave.', 'black male', 46, 'January 5, 2007', 'JHH', 'shooting'],\n",
       " ['300 West North Ave.',\n",
       "  'black male',\n",
       "  27,\n",
       "  'January 5, 2007',\n",
       "  'UMMC',\n",
       "  'shooting'],\n",
       " ['1800 North Montford Ave.',\n",
       "  'black male',\n",
       "  21,\n",
       "  'January 7, 2007',\n",
       "  'JHH',\n",
       "  'shooting'],\n",
       " ['5100 Harford Road',\n",
       "  'black male',\n",
       "  16,\n",
       "  'January 8, 2007',\n",
       "  'Bayview',\n",
       "  'shooting'],\n",
       " ['3100 Ravenwood Road',\n",
       "  'black male',\n",
       "  21,\n",
       "  'January 8, 2007',\n",
       "  'JHH',\n",
       "  'shooting']]"
      ]
     },
     "execution_count": 9,
     "metadata": {},
     "output_type": "execute_result"
    }
   ],
   "source": [
    "clean_data  = []\n",
    "for i in range(len(data)):\n",
    "    clean_data.append([addresses[i], genders[i], ages[i], founds[i], death[i], causes[i]])\n",
    "clean_data[0:10]"
   ]
  },
  {
   "cell_type": "code",
   "execution_count": 10,
   "id": "e270293c",
   "metadata": {},
   "outputs": [],
   "source": [
    "# homi is short for homicide\n",
    "homi = pd.DataFrame(clean_data, columns = ['address', 'gender', 'age', 'found', 'death', 'cause'])"
   ]
  },
  {
   "cell_type": "code",
   "execution_count": 11,
   "id": "d2639c6e",
   "metadata": {},
   "outputs": [
    {
     "data": {
      "text/html": [
       "<div>\n",
       "<style scoped>\n",
       "    .dataframe tbody tr th:only-of-type {\n",
       "        vertical-align: middle;\n",
       "    }\n",
       "\n",
       "    .dataframe tbody tr th {\n",
       "        vertical-align: top;\n",
       "    }\n",
       "\n",
       "    .dataframe thead th {\n",
       "        text-align: right;\n",
       "    }\n",
       "</style>\n",
       "<table border=\"1\" class=\"dataframe\">\n",
       "  <thead>\n",
       "    <tr style=\"text-align: right;\">\n",
       "      <th></th>\n",
       "      <th>address</th>\n",
       "      <th>gender</th>\n",
       "      <th>age</th>\n",
       "      <th>found</th>\n",
       "      <th>death</th>\n",
       "      <th>cause</th>\n",
       "    </tr>\n",
       "  </thead>\n",
       "  <tbody>\n",
       "    <tr>\n",
       "      <th>0</th>\n",
       "      <td>3400 Clifton Ave.</td>\n",
       "      <td>black male</td>\n",
       "      <td>17.0</td>\n",
       "      <td>January 1, 2007</td>\n",
       "      <td>Shock Trauma</td>\n",
       "      <td>shooting</td>\n",
       "    </tr>\n",
       "    <tr>\n",
       "      <th>1</th>\n",
       "      <td>4900 Challedon Road</td>\n",
       "      <td>black male</td>\n",
       "      <td>26.0</td>\n",
       "      <td>January 2, 2007</td>\n",
       "      <td>scene</td>\n",
       "      <td>shooting</td>\n",
       "    </tr>\n",
       "    <tr>\n",
       "      <th>2</th>\n",
       "      <td>2000 West North Ave</td>\n",
       "      <td>black female</td>\n",
       "      <td>44.0</td>\n",
       "      <td>January 2, 2007</td>\n",
       "      <td>scene</td>\n",
       "      <td>blunt force</td>\n",
       "    </tr>\n",
       "    <tr>\n",
       "      <th>3</th>\n",
       "      <td>5900 Northwood Drive</td>\n",
       "      <td>black male</td>\n",
       "      <td>21.0</td>\n",
       "      <td>January 3, 2007</td>\n",
       "      <td>scene</td>\n",
       "      <td>asphyxiation</td>\n",
       "    </tr>\n",
       "    <tr>\n",
       "      <th>4</th>\n",
       "      <td>500 Maude Ave.</td>\n",
       "      <td>white male</td>\n",
       "      <td>61.0</td>\n",
       "      <td>January 5, 2007</td>\n",
       "      <td>scene</td>\n",
       "      <td>blunt force</td>\n",
       "    </tr>\n",
       "    <tr>\n",
       "      <th>...</th>\n",
       "      <td>...</td>\n",
       "      <td>...</td>\n",
       "      <td>...</td>\n",
       "      <td>...</td>\n",
       "      <td>...</td>\n",
       "      <td>...</td>\n",
       "    </tr>\n",
       "    <tr>\n",
       "      <th>1245</th>\n",
       "      <td>1000 Renick Ct</td>\n",
       "      <td>NaN</td>\n",
       "      <td>35.0</td>\n",
       "      <td>January  8, 2012</td>\n",
       "      <td>Maryland Shock Trauma Center</td>\n",
       "      <td>Shooting</td>\n",
       "    </tr>\n",
       "    <tr>\n",
       "      <th>1246</th>\n",
       "      <td>2400 Ashland Ave</td>\n",
       "      <td>NaN</td>\n",
       "      <td>27.0</td>\n",
       "      <td>January  6, 2012</td>\n",
       "      <td>Johns Hopkins Hospital</td>\n",
       "      <td>Shooting</td>\n",
       "    </tr>\n",
       "    <tr>\n",
       "      <th>1247</th>\n",
       "      <td>2600 E. Biddle St</td>\n",
       "      <td>NaN</td>\n",
       "      <td>84.0</td>\n",
       "      <td>January  5, 2012</td>\n",
       "      <td>Scene</td>\n",
       "      <td>Stabbing</td>\n",
       "    </tr>\n",
       "    <tr>\n",
       "      <th>1248</th>\n",
       "      <td>4000 Edgewood Rd</td>\n",
       "      <td>NaN</td>\n",
       "      <td>62.0</td>\n",
       "      <td>January  3, 2012</td>\n",
       "      <td>Sinai Hospital</td>\n",
       "      <td>Shooting</td>\n",
       "    </tr>\n",
       "    <tr>\n",
       "      <th>1249</th>\n",
       "      <td>500 Brunswich</td>\n",
       "      <td>NaN</td>\n",
       "      <td>65.0</td>\n",
       "      <td>January  3, 2012</td>\n",
       "      <td>Unknown</td>\n",
       "      <td>Blunt Force</td>\n",
       "    </tr>\n",
       "  </tbody>\n",
       "</table>\n",
       "<p>1250 rows × 6 columns</p>\n",
       "</div>"
      ],
      "text/plain": [
       "                   address        gender   age             found  \\\n",
       "0        3400 Clifton Ave.    black male  17.0   January 1, 2007   \n",
       "1      4900 Challedon Road    black male  26.0   January 2, 2007   \n",
       "2      2000 West North Ave  black female  44.0   January 2, 2007   \n",
       "3     5900 Northwood Drive    black male  21.0   January 3, 2007   \n",
       "4           500 Maude Ave.    white male  61.0   January 5, 2007   \n",
       "...                    ...           ...   ...               ...   \n",
       "1245        1000 Renick Ct           NaN  35.0  January  8, 2012   \n",
       "1246      2400 Ashland Ave           NaN  27.0  January  6, 2012   \n",
       "1247     2600 E. Biddle St           NaN  84.0  January  5, 2012   \n",
       "1248      4000 Edgewood Rd           NaN  62.0  January  3, 2012   \n",
       "1249         500 Brunswich           NaN  65.0  January  3, 2012   \n",
       "\n",
       "                             death         cause  \n",
       "0                     Shock Trauma      shooting  \n",
       "1                            scene      shooting  \n",
       "2                            scene   blunt force  \n",
       "3                            scene  asphyxiation  \n",
       "4                            scene   blunt force  \n",
       "...                            ...           ...  \n",
       "1245  Maryland Shock Trauma Center      Shooting  \n",
       "1246        Johns Hopkins Hospital      Shooting  \n",
       "1247                         Scene      Stabbing  \n",
       "1248                Sinai Hospital      Shooting  \n",
       "1249                       Unknown   Blunt Force  \n",
       "\n",
       "[1250 rows x 6 columns]"
      ]
     },
     "execution_count": 11,
     "metadata": {},
     "output_type": "execute_result"
    }
   ],
   "source": [
    "homi"
   ]
  },
  {
   "cell_type": "markdown",
   "id": "b427f048",
   "metadata": {},
   "source": [
    "## 3. Data Exploration"
   ]
  },
  {
   "cell_type": "code",
   "execution_count": 12,
   "id": "61a22098",
   "metadata": {},
   "outputs": [
    {
     "data": {
      "text/plain": [
       "address     object\n",
       "gender      object\n",
       "age        float64\n",
       "found       object\n",
       "death       object\n",
       "cause       object\n",
       "dtype: object"
      ]
     },
     "execution_count": 12,
     "metadata": {},
     "output_type": "execute_result"
    }
   ],
   "source": [
    "homi.dtypes"
   ]
  },
  {
   "cell_type": "code",
   "execution_count": 13,
   "id": "d072accd",
   "metadata": {},
   "outputs": [
    {
     "data": {
      "text/plain": [
       "address      0\n",
       "gender     983\n",
       "age         11\n",
       "found        0\n",
       "death       21\n",
       "cause        4\n",
       "dtype: int64"
      ]
     },
     "execution_count": 13,
     "metadata": {},
     "output_type": "execute_result"
    }
   ],
   "source": [
    "homi.isna().sum()"
   ]
  },
  {
   "cell_type": "code",
   "execution_count": 14,
   "id": "716b8c8a",
   "metadata": {
    "scrolled": true
   },
   "outputs": [],
   "source": [
    "homi['found_datetime'] = pd.to_datetime(homi.found)"
   ]
  },
  {
   "cell_type": "code",
   "execution_count": 15,
   "id": "8b0ad131",
   "metadata": {},
   "outputs": [
    {
     "data": {
      "text/html": [
       "<div>\n",
       "<style scoped>\n",
       "    .dataframe tbody tr th:only-of-type {\n",
       "        vertical-align: middle;\n",
       "    }\n",
       "\n",
       "    .dataframe tbody tr th {\n",
       "        vertical-align: top;\n",
       "    }\n",
       "\n",
       "    .dataframe thead th {\n",
       "        text-align: right;\n",
       "    }\n",
       "</style>\n",
       "<table border=\"1\" class=\"dataframe\">\n",
       "  <thead>\n",
       "    <tr style=\"text-align: right;\">\n",
       "      <th></th>\n",
       "      <th>address</th>\n",
       "      <th>gender</th>\n",
       "      <th>age</th>\n",
       "      <th>found</th>\n",
       "      <th>death</th>\n",
       "      <th>cause</th>\n",
       "      <th>found_datetime</th>\n",
       "    </tr>\n",
       "  </thead>\n",
       "  <tbody>\n",
       "    <tr>\n",
       "      <th>0</th>\n",
       "      <td>3400 Clifton Ave.</td>\n",
       "      <td>black male</td>\n",
       "      <td>17.0</td>\n",
       "      <td>January 1, 2007</td>\n",
       "      <td>Shock Trauma</td>\n",
       "      <td>shooting</td>\n",
       "      <td>2007-01-01</td>\n",
       "    </tr>\n",
       "    <tr>\n",
       "      <th>1</th>\n",
       "      <td>4900 Challedon Road</td>\n",
       "      <td>black male</td>\n",
       "      <td>26.0</td>\n",
       "      <td>January 2, 2007</td>\n",
       "      <td>scene</td>\n",
       "      <td>shooting</td>\n",
       "      <td>2007-01-02</td>\n",
       "    </tr>\n",
       "    <tr>\n",
       "      <th>2</th>\n",
       "      <td>2000 West North Ave</td>\n",
       "      <td>black female</td>\n",
       "      <td>44.0</td>\n",
       "      <td>January 2, 2007</td>\n",
       "      <td>scene</td>\n",
       "      <td>blunt force</td>\n",
       "      <td>2007-01-02</td>\n",
       "    </tr>\n",
       "    <tr>\n",
       "      <th>3</th>\n",
       "      <td>5900 Northwood Drive</td>\n",
       "      <td>black male</td>\n",
       "      <td>21.0</td>\n",
       "      <td>January 3, 2007</td>\n",
       "      <td>scene</td>\n",
       "      <td>asphyxiation</td>\n",
       "      <td>2007-01-03</td>\n",
       "    </tr>\n",
       "    <tr>\n",
       "      <th>4</th>\n",
       "      <td>500 Maude Ave.</td>\n",
       "      <td>white male</td>\n",
       "      <td>61.0</td>\n",
       "      <td>January 5, 2007</td>\n",
       "      <td>scene</td>\n",
       "      <td>blunt force</td>\n",
       "      <td>2007-01-05</td>\n",
       "    </tr>\n",
       "    <tr>\n",
       "      <th>...</th>\n",
       "      <td>...</td>\n",
       "      <td>...</td>\n",
       "      <td>...</td>\n",
       "      <td>...</td>\n",
       "      <td>...</td>\n",
       "      <td>...</td>\n",
       "      <td>...</td>\n",
       "    </tr>\n",
       "    <tr>\n",
       "      <th>1245</th>\n",
       "      <td>1000 Renick Ct</td>\n",
       "      <td>NaN</td>\n",
       "      <td>35.0</td>\n",
       "      <td>January  8, 2012</td>\n",
       "      <td>Maryland Shock Trauma Center</td>\n",
       "      <td>Shooting</td>\n",
       "      <td>2012-01-08</td>\n",
       "    </tr>\n",
       "    <tr>\n",
       "      <th>1246</th>\n",
       "      <td>2400 Ashland Ave</td>\n",
       "      <td>NaN</td>\n",
       "      <td>27.0</td>\n",
       "      <td>January  6, 2012</td>\n",
       "      <td>Johns Hopkins Hospital</td>\n",
       "      <td>Shooting</td>\n",
       "      <td>2012-01-06</td>\n",
       "    </tr>\n",
       "    <tr>\n",
       "      <th>1247</th>\n",
       "      <td>2600 E. Biddle St</td>\n",
       "      <td>NaN</td>\n",
       "      <td>84.0</td>\n",
       "      <td>January  5, 2012</td>\n",
       "      <td>Scene</td>\n",
       "      <td>Stabbing</td>\n",
       "      <td>2012-01-05</td>\n",
       "    </tr>\n",
       "    <tr>\n",
       "      <th>1248</th>\n",
       "      <td>4000 Edgewood Rd</td>\n",
       "      <td>NaN</td>\n",
       "      <td>62.0</td>\n",
       "      <td>January  3, 2012</td>\n",
       "      <td>Sinai Hospital</td>\n",
       "      <td>Shooting</td>\n",
       "      <td>2012-01-03</td>\n",
       "    </tr>\n",
       "    <tr>\n",
       "      <th>1249</th>\n",
       "      <td>500 Brunswich</td>\n",
       "      <td>NaN</td>\n",
       "      <td>65.0</td>\n",
       "      <td>January  3, 2012</td>\n",
       "      <td>Unknown</td>\n",
       "      <td>Blunt Force</td>\n",
       "      <td>2012-01-03</td>\n",
       "    </tr>\n",
       "  </tbody>\n",
       "</table>\n",
       "<p>1250 rows × 7 columns</p>\n",
       "</div>"
      ],
      "text/plain": [
       "                   address        gender   age             found  \\\n",
       "0        3400 Clifton Ave.    black male  17.0   January 1, 2007   \n",
       "1      4900 Challedon Road    black male  26.0   January 2, 2007   \n",
       "2      2000 West North Ave  black female  44.0   January 2, 2007   \n",
       "3     5900 Northwood Drive    black male  21.0   January 3, 2007   \n",
       "4           500 Maude Ave.    white male  61.0   January 5, 2007   \n",
       "...                    ...           ...   ...               ...   \n",
       "1245        1000 Renick Ct           NaN  35.0  January  8, 2012   \n",
       "1246      2400 Ashland Ave           NaN  27.0  January  6, 2012   \n",
       "1247     2600 E. Biddle St           NaN  84.0  January  5, 2012   \n",
       "1248      4000 Edgewood Rd           NaN  62.0  January  3, 2012   \n",
       "1249         500 Brunswich           NaN  65.0  January  3, 2012   \n",
       "\n",
       "                             death         cause found_datetime  \n",
       "0                     Shock Trauma      shooting     2007-01-01  \n",
       "1                            scene      shooting     2007-01-02  \n",
       "2                            scene   blunt force     2007-01-02  \n",
       "3                            scene  asphyxiation     2007-01-03  \n",
       "4                            scene   blunt force     2007-01-05  \n",
       "...                            ...           ...            ...  \n",
       "1245  Maryland Shock Trauma Center      Shooting     2012-01-08  \n",
       "1246        Johns Hopkins Hospital      Shooting     2012-01-06  \n",
       "1247                         Scene      Stabbing     2012-01-05  \n",
       "1248                Sinai Hospital      Shooting     2012-01-03  \n",
       "1249                       Unknown   Blunt Force     2012-01-03  \n",
       "\n",
       "[1250 rows x 7 columns]"
      ]
     },
     "execution_count": 15,
     "metadata": {},
     "output_type": "execute_result"
    }
   ],
   "source": [
    "homi"
   ]
  },
  {
   "cell_type": "code",
   "execution_count": 16,
   "id": "2546b203",
   "metadata": {},
   "outputs": [
    {
     "data": {
      "text/plain": [
       "<AxesSubplot:>"
      ]
     },
     "execution_count": 16,
     "metadata": {},
     "output_type": "execute_result"
    },
    {
     "data": {
      "image/png": "[encoded data removed]",
      "text/plain": [
       "<Figure size 432x288 with 1 Axes>"
      ]
     },
     "metadata": {
      "needs_background": "light"
     },
     "output_type": "display_data"
    }
   ],
   "source": [
    "homi['found_datetime'].dt.year.value_counts().sort_index().plot(kind='line')"
   ]
  },
  {
   "cell_type": "code",
   "execution_count": 17,
   "id": "f5cfd843",
   "metadata": {},
   "outputs": [
    {
     "data": {
      "text/plain": [
       "gender\n",
       "Hispanic male      29.000000\n",
       "Other male         25.500000\n",
       "black female       33.294118\n",
       "black male         27.413793\n",
       "hispanic female    20.500000\n",
       "white female       31.800000\n",
       "white male         45.375000\n",
       "Name: age, dtype: float64"
      ]
     },
     "execution_count": 17,
     "metadata": {},
     "output_type": "execute_result"
    }
   ],
   "source": [
    "homi.groupby('gender').age.mean()"
   ]
  },
  {
   "cell_type": "code",
   "execution_count": 18,
   "id": "7a21f6cc",
   "metadata": {},
   "outputs": [
    {
     "data": {
      "text/html": [
       "<div>\n",
       "<style scoped>\n",
       "    .dataframe tbody tr th:only-of-type {\n",
       "        vertical-align: middle;\n",
       "    }\n",
       "\n",
       "    .dataframe tbody tr th {\n",
       "        vertical-align: top;\n",
       "    }\n",
       "\n",
       "    .dataframe thead th {\n",
       "        text-align: right;\n",
       "    }\n",
       "</style>\n",
       "<table border=\"1\" class=\"dataframe\">\n",
       "  <thead>\n",
       "    <tr style=\"text-align: right;\">\n",
       "      <th></th>\n",
       "      <th>address</th>\n",
       "      <th>gender</th>\n",
       "      <th>age</th>\n",
       "      <th>found</th>\n",
       "      <th>death</th>\n",
       "      <th>cause</th>\n",
       "      <th>found_datetime</th>\n",
       "    </tr>\n",
       "  </thead>\n",
       "  <tbody>\n",
       "    <tr>\n",
       "      <th>0</th>\n",
       "      <td>3400 Clifton Ave.</td>\n",
       "      <td>black male</td>\n",
       "      <td>17.0</td>\n",
       "      <td>January 1, 2007</td>\n",
       "      <td>Shock Trauma</td>\n",
       "      <td>shooting</td>\n",
       "      <td>2007-01-01</td>\n",
       "    </tr>\n",
       "    <tr>\n",
       "      <th>1</th>\n",
       "      <td>4900 Challedon Road</td>\n",
       "      <td>black male</td>\n",
       "      <td>26.0</td>\n",
       "      <td>January 2, 2007</td>\n",
       "      <td>scene</td>\n",
       "      <td>shooting</td>\n",
       "      <td>2007-01-02</td>\n",
       "    </tr>\n",
       "    <tr>\n",
       "      <th>2</th>\n",
       "      <td>2000 West North Ave</td>\n",
       "      <td>black female</td>\n",
       "      <td>44.0</td>\n",
       "      <td>January 2, 2007</td>\n",
       "      <td>scene</td>\n",
       "      <td>blunt force</td>\n",
       "      <td>2007-01-02</td>\n",
       "    </tr>\n",
       "    <tr>\n",
       "      <th>3</th>\n",
       "      <td>5900 Northwood Drive</td>\n",
       "      <td>black male</td>\n",
       "      <td>21.0</td>\n",
       "      <td>January 3, 2007</td>\n",
       "      <td>scene</td>\n",
       "      <td>asphyxiation</td>\n",
       "      <td>2007-01-03</td>\n",
       "    </tr>\n",
       "    <tr>\n",
       "      <th>4</th>\n",
       "      <td>500 Maude Ave.</td>\n",
       "      <td>white male</td>\n",
       "      <td>61.0</td>\n",
       "      <td>January 5, 2007</td>\n",
       "      <td>scene</td>\n",
       "      <td>blunt force</td>\n",
       "      <td>2007-01-05</td>\n",
       "    </tr>\n",
       "  </tbody>\n",
       "</table>\n",
       "</div>"
      ],
      "text/plain": [
       "                address        gender   age            found         death  \\\n",
       "0     3400 Clifton Ave.    black male  17.0  January 1, 2007  Shock Trauma   \n",
       "1   4900 Challedon Road    black male  26.0  January 2, 2007         scene   \n",
       "2   2000 West North Ave  black female  44.0  January 2, 2007         scene   \n",
       "3  5900 Northwood Drive    black male  21.0  January 3, 2007         scene   \n",
       "4        500 Maude Ave.    white male  61.0  January 5, 2007         scene   \n",
       "\n",
       "          cause found_datetime  \n",
       "0      shooting     2007-01-01  \n",
       "1      shooting     2007-01-02  \n",
       "2   blunt force     2007-01-02  \n",
       "3  asphyxiation     2007-01-03  \n",
       "4   blunt force     2007-01-05  "
      ]
     },
     "execution_count": 18,
     "metadata": {},
     "output_type": "execute_result"
    }
   ],
   "source": [
    "homi.head()"
   ]
  },
  {
   "cell_type": "code",
   "execution_count": 19,
   "id": "1a668751",
   "metadata": {},
   "outputs": [
    {
     "data": {
      "text/plain": [
       "2900 Greenmount Ave       4\n",
       "2100 Edmondson Ave        3\n",
       "3200 Belair Rd            3\n",
       "4300 Nicholas Ave         3\n",
       "1100 N. Milton Ave        3\n",
       "800 Bethune Road          3\n",
       "3000 Baker St             3\n",
       "2900 Garrison Blvd.       3\n",
       "4000 Oakford Ave.         3\n",
       "2500 Garrett Ave.         3\n",
       "1300 Bloomingdale Road    2\n",
       "Name: address, dtype: int64"
      ]
     },
     "execution_count": 19,
     "metadata": {},
     "output_type": "execute_result"
    }
   ],
   "source": [
    "homi['address'].value_counts(dropna = False).head(11)"
   ]
  },
  {
   "cell_type": "code",
   "execution_count": 20,
   "id": "760554d2",
   "metadata": {},
   "outputs": [],
   "source": [
    "def get_race(string):\n",
    "    match = re.search(r'\\w+ ', string)\n",
    "    if match:\n",
    "        return match.group()\n",
    "    else:\n",
    "        return np.nan"
   ]
  },
  {
   "cell_type": "code",
   "execution_count": 21,
   "id": "d4f7a67b",
   "metadata": {},
   "outputs": [
    {
     "data": {
      "text/plain": [
       "'Black '"
      ]
     },
     "execution_count": 21,
     "metadata": {},
     "output_type": "execute_result"
    }
   ],
   "source": [
    "get_race('Black male')"
   ]
  },
  {
   "cell_type": "code",
   "execution_count": 22,
   "id": "b0639028",
   "metadata": {},
   "outputs": [
    {
     "data": {
      "text/html": [
       "<div>\n",
       "<style scoped>\n",
       "    .dataframe tbody tr th:only-of-type {\n",
       "        vertical-align: middle;\n",
       "    }\n",
       "\n",
       "    .dataframe tbody tr th {\n",
       "        vertical-align: top;\n",
       "    }\n",
       "\n",
       "    .dataframe thead th {\n",
       "        text-align: right;\n",
       "    }\n",
       "</style>\n",
       "<table border=\"1\" class=\"dataframe\">\n",
       "  <thead>\n",
       "    <tr style=\"text-align: right;\">\n",
       "      <th></th>\n",
       "      <th>address</th>\n",
       "      <th>gender</th>\n",
       "      <th>age</th>\n",
       "      <th>found</th>\n",
       "      <th>death</th>\n",
       "      <th>cause</th>\n",
       "      <th>found_datetime</th>\n",
       "      <th>racial</th>\n",
       "    </tr>\n",
       "  </thead>\n",
       "  <tbody>\n",
       "    <tr>\n",
       "      <th>0</th>\n",
       "      <td>3400 Clifton Ave.</td>\n",
       "      <td>black male</td>\n",
       "      <td>17.0</td>\n",
       "      <td>January 1, 2007</td>\n",
       "      <td>Shock Trauma</td>\n",
       "      <td>shooting</td>\n",
       "      <td>2007-01-01</td>\n",
       "      <td>black</td>\n",
       "    </tr>\n",
       "    <tr>\n",
       "      <th>1</th>\n",
       "      <td>4900 Challedon Road</td>\n",
       "      <td>black male</td>\n",
       "      <td>26.0</td>\n",
       "      <td>January 2, 2007</td>\n",
       "      <td>scene</td>\n",
       "      <td>shooting</td>\n",
       "      <td>2007-01-02</td>\n",
       "      <td>black</td>\n",
       "    </tr>\n",
       "    <tr>\n",
       "      <th>2</th>\n",
       "      <td>2000 West North Ave</td>\n",
       "      <td>black female</td>\n",
       "      <td>44.0</td>\n",
       "      <td>January 2, 2007</td>\n",
       "      <td>scene</td>\n",
       "      <td>blunt force</td>\n",
       "      <td>2007-01-02</td>\n",
       "      <td>black</td>\n",
       "    </tr>\n",
       "    <tr>\n",
       "      <th>3</th>\n",
       "      <td>5900 Northwood Drive</td>\n",
       "      <td>black male</td>\n",
       "      <td>21.0</td>\n",
       "      <td>January 3, 2007</td>\n",
       "      <td>scene</td>\n",
       "      <td>asphyxiation</td>\n",
       "      <td>2007-01-03</td>\n",
       "      <td>black</td>\n",
       "    </tr>\n",
       "    <tr>\n",
       "      <th>4</th>\n",
       "      <td>500 Maude Ave.</td>\n",
       "      <td>white male</td>\n",
       "      <td>61.0</td>\n",
       "      <td>January 5, 2007</td>\n",
       "      <td>scene</td>\n",
       "      <td>blunt force</td>\n",
       "      <td>2007-01-05</td>\n",
       "      <td>white</td>\n",
       "    </tr>\n",
       "    <tr>\n",
       "      <th>...</th>\n",
       "      <td>...</td>\n",
       "      <td>...</td>\n",
       "      <td>...</td>\n",
       "      <td>...</td>\n",
       "      <td>...</td>\n",
       "      <td>...</td>\n",
       "      <td>...</td>\n",
       "      <td>...</td>\n",
       "    </tr>\n",
       "    <tr>\n",
       "      <th>1245</th>\n",
       "      <td>1000 Renick Ct</td>\n",
       "      <td>NaN</td>\n",
       "      <td>35.0</td>\n",
       "      <td>January  8, 2012</td>\n",
       "      <td>Maryland Shock Trauma Center</td>\n",
       "      <td>Shooting</td>\n",
       "      <td>2012-01-08</td>\n",
       "      <td>NaN</td>\n",
       "    </tr>\n",
       "    <tr>\n",
       "      <th>1246</th>\n",
       "      <td>2400 Ashland Ave</td>\n",
       "      <td>NaN</td>\n",
       "      <td>27.0</td>\n",
       "      <td>January  6, 2012</td>\n",
       "      <td>Johns Hopkins Hospital</td>\n",
       "      <td>Shooting</td>\n",
       "      <td>2012-01-06</td>\n",
       "      <td>NaN</td>\n",
       "    </tr>\n",
       "    <tr>\n",
       "      <th>1247</th>\n",
       "      <td>2600 E. Biddle St</td>\n",
       "      <td>NaN</td>\n",
       "      <td>84.0</td>\n",
       "      <td>January  5, 2012</td>\n",
       "      <td>Scene</td>\n",
       "      <td>Stabbing</td>\n",
       "      <td>2012-01-05</td>\n",
       "      <td>NaN</td>\n",
       "    </tr>\n",
       "    <tr>\n",
       "      <th>1248</th>\n",
       "      <td>4000 Edgewood Rd</td>\n",
       "      <td>NaN</td>\n",
       "      <td>62.0</td>\n",
       "      <td>January  3, 2012</td>\n",
       "      <td>Sinai Hospital</td>\n",
       "      <td>Shooting</td>\n",
       "      <td>2012-01-03</td>\n",
       "      <td>NaN</td>\n",
       "    </tr>\n",
       "    <tr>\n",
       "      <th>1249</th>\n",
       "      <td>500 Brunswich</td>\n",
       "      <td>NaN</td>\n",
       "      <td>65.0</td>\n",
       "      <td>January  3, 2012</td>\n",
       "      <td>Unknown</td>\n",
       "      <td>Blunt Force</td>\n",
       "      <td>2012-01-03</td>\n",
       "      <td>NaN</td>\n",
       "    </tr>\n",
       "  </tbody>\n",
       "</table>\n",
       "<p>1250 rows × 8 columns</p>\n",
       "</div>"
      ],
      "text/plain": [
       "                   address        gender   age             found  \\\n",
       "0        3400 Clifton Ave.    black male  17.0   January 1, 2007   \n",
       "1      4900 Challedon Road    black male  26.0   January 2, 2007   \n",
       "2      2000 West North Ave  black female  44.0   January 2, 2007   \n",
       "3     5900 Northwood Drive    black male  21.0   January 3, 2007   \n",
       "4           500 Maude Ave.    white male  61.0   January 5, 2007   \n",
       "...                    ...           ...   ...               ...   \n",
       "1245        1000 Renick Ct           NaN  35.0  January  8, 2012   \n",
       "1246      2400 Ashland Ave           NaN  27.0  January  6, 2012   \n",
       "1247     2600 E. Biddle St           NaN  84.0  January  5, 2012   \n",
       "1248      4000 Edgewood Rd           NaN  62.0  January  3, 2012   \n",
       "1249         500 Brunswich           NaN  65.0  January  3, 2012   \n",
       "\n",
       "                             death         cause found_datetime  racial  \n",
       "0                     Shock Trauma      shooting     2007-01-01  black   \n",
       "1                            scene      shooting     2007-01-02  black   \n",
       "2                            scene   blunt force     2007-01-02  black   \n",
       "3                            scene  asphyxiation     2007-01-03  black   \n",
       "4                            scene   blunt force     2007-01-05  white   \n",
       "...                            ...           ...            ...     ...  \n",
       "1245  Maryland Shock Trauma Center      Shooting     2012-01-08     NaN  \n",
       "1246        Johns Hopkins Hospital      Shooting     2012-01-06     NaN  \n",
       "1247                         Scene      Stabbing     2012-01-05     NaN  \n",
       "1248                Sinai Hospital      Shooting     2012-01-03     NaN  \n",
       "1249                       Unknown   Blunt Force     2012-01-03     NaN  \n",
       "\n",
       "[1250 rows x 8 columns]"
      ]
     },
     "execution_count": 22,
     "metadata": {},
     "output_type": "execute_result"
    }
   ],
   "source": [
    "homi['racial'] = homi['gender'].astype(str).apply(get_race)\n",
    "homi"
   ]
  },
  {
   "cell_type": "code",
   "execution_count": 23,
   "id": "10386ab8",
   "metadata": {},
   "outputs": [
    {
     "data": {
      "text/plain": [
       "black        0.932584\n",
       "white        0.048689\n",
       "Other        0.007491\n",
       "hispanic     0.007491\n",
       "Hispanic     0.003745\n",
       "Name: racial, dtype: float64"
      ]
     },
     "execution_count": 23,
     "metadata": {},
     "output_type": "execute_result"
    }
   ],
   "source": [
    "homi['racial'].value_counts(normalize=True)"
   ]
  },
  {
   "cell_type": "code",
   "execution_count": 24,
   "id": "425d8e92",
   "metadata": {},
   "outputs": [
    {
     "data": {
      "text/plain": [
       "<AxesSubplot:>"
      ]
     },
     "execution_count": 24,
     "metadata": {},
     "output_type": "execute_result"
    },
    {
     "data": {
      "image/png": "[encoded data removed]",
      "text/plain": [
       "<Figure size 432x288 with 1 Axes>"
      ]
     },
     "metadata": {
      "needs_background": "light"
     },
     "output_type": "display_data"
    }
   ],
   "source": [
    "homi['racial'].value_counts().plot(kind='bar')"
   ]
  },
  {
   "cell_type": "code",
   "execution_count": 25,
   "id": "8050724e",
   "metadata": {},
   "outputs": [
    {
     "data": {
      "text/html": [
       "<div>\n",
       "<style scoped>\n",
       "    .dataframe tbody tr th:only-of-type {\n",
       "        vertical-align: middle;\n",
       "    }\n",
       "\n",
       "    .dataframe tbody tr th {\n",
       "        vertical-align: top;\n",
       "    }\n",
       "\n",
       "    .dataframe thead th {\n",
       "        text-align: right;\n",
       "    }\n",
       "</style>\n",
       "<table border=\"1\" class=\"dataframe\">\n",
       "  <thead>\n",
       "    <tr style=\"text-align: right;\">\n",
       "      <th></th>\n",
       "      <th>count</th>\n",
       "      <th>mean</th>\n",
       "      <th>max</th>\n",
       "      <th>min</th>\n",
       "    </tr>\n",
       "    <tr>\n",
       "      <th>racial</th>\n",
       "      <th></th>\n",
       "      <th></th>\n",
       "      <th></th>\n",
       "      <th></th>\n",
       "    </tr>\n",
       "  </thead>\n",
       "  <tbody>\n",
       "    <tr>\n",
       "      <th>Hispanic</th>\n",
       "      <td>1</td>\n",
       "      <td>29.000000</td>\n",
       "      <td>29.0</td>\n",
       "      <td>29.0</td>\n",
       "    </tr>\n",
       "    <tr>\n",
       "      <th>Other</th>\n",
       "      <td>2</td>\n",
       "      <td>25.500000</td>\n",
       "      <td>33.0</td>\n",
       "      <td>18.0</td>\n",
       "    </tr>\n",
       "    <tr>\n",
       "      <th>black</th>\n",
       "      <td>249</td>\n",
       "      <td>27.815261</td>\n",
       "      <td>81.0</td>\n",
       "      <td>2.0</td>\n",
       "    </tr>\n",
       "    <tr>\n",
       "      <th>hispanic</th>\n",
       "      <td>2</td>\n",
       "      <td>20.500000</td>\n",
       "      <td>25.0</td>\n",
       "      <td>16.0</td>\n",
       "    </tr>\n",
       "    <tr>\n",
       "      <th>white</th>\n",
       "      <td>13</td>\n",
       "      <td>40.153846</td>\n",
       "      <td>65.0</td>\n",
       "      <td>18.0</td>\n",
       "    </tr>\n",
       "  </tbody>\n",
       "</table>\n",
       "</div>"
      ],
      "text/plain": [
       "           count       mean   max   min\n",
       "racial                                 \n",
       "Hispanic       1  29.000000  29.0  29.0\n",
       "Other          2  25.500000  33.0  18.0\n",
       "black        249  27.815261  81.0   2.0\n",
       "hispanic       2  20.500000  25.0  16.0\n",
       "white         13  40.153846  65.0  18.0"
      ]
     },
     "execution_count": 25,
     "metadata": {},
     "output_type": "execute_result"
    }
   ],
   "source": [
    "homi.groupby('racial').age.agg(['count', 'mean', 'max', 'min'])"
   ]
  }
 ],
 "metadata": {
  "kernelspec": {
   "display_name": "Python 3",
   "language": "python",
   "name": "python3"
  },
  "language_info": {
   "codemirror_mode": {
    "name": "ipython",
    "version": 3
   },
   "file_extension": ".py",
   "mimetype": "text/x-python",
   "name": "python",
   "nbconvert_exporter": "python",
   "pygments_lexer": "ipython3",
   "version": "3.8.8"
  }
 },
 "nbformat": 4,
 "nbformat_minor": 5
}
